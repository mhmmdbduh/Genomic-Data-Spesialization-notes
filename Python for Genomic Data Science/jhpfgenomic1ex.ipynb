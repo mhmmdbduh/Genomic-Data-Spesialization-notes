{
 "cells": [
  {
   "cell_type": "code",
   "execution_count": 209,
   "metadata": {},
   "outputs": [],
   "source": [
    "def readfasta(filename):\n",
    "    seq={}\n",
    "    with open(filename) as fh:\n",
    "        for line in fh:\n",
    "            line=line.rstrip()\n",
    "            if line[0]=='>':\n",
    "                words=line.split()\n",
    "                name=words[0][1:]\n",
    "                seq[name]=''\n",
    "\n",
    "            else:\n",
    "                seq[name]=seq[name]+line\n",
    "        return  seq\n",
    "file = readfasta(\"dna2.fasta\")  \n",
    "  \n"
   ]
  },
  {
   "cell_type": "code",
   "execution_count": 225,
   "metadata": {},
   "outputs": [
    {
     "data": {
      "text/plain": [
       "({'gi|142022655|gb|EQ086233.1|255'}, 4894)"
      ]
     },
     "execution_count": 225,
     "metadata": {},
     "output_type": "execute_result"
    }
   ],
   "source": [
    "maxlenght = len(max(file.values(), key=len))\n",
    "maxlenght_name = {i for i in file if len(file[i]) == maxlenght}\n",
    "maxlenght_name, maxlenght\n"
   ]
  },
  {
   "cell_type": "code",
   "execution_count": 226,
   "metadata": {},
   "outputs": [
    {
     "data": {
      "text/plain": [
       "({'gi|142022655|gb|EQ086233.1|346'}, 115)"
      ]
     },
     "execution_count": 226,
     "metadata": {},
     "output_type": "execute_result"
    }
   ],
   "source": [
    "minlenght = len(min(file.values(), key=len))\n",
    "minlenght_name = {i for i in file if len(file[i]) == minlenght}\n",
    "minlenght_name, minlenght"
   ]
  },
  {
   "cell_type": "code",
   "execution_count": null,
   "metadata": {},
   "outputs": [],
   "source": []
  }
 ],
 "metadata": {
  "kernelspec": {
   "display_name": "Python 3.9.13 64-bit (microsoft store)",
   "language": "python",
   "name": "python3"
  },
  "language_info": {
   "codemirror_mode": {
    "name": "ipython",
    "version": 3
   },
   "file_extension": ".py",
   "mimetype": "text/x-python",
   "name": "python",
   "nbconvert_exporter": "python",
   "pygments_lexer": "ipython3",
   "version": "3.9.13"
  },
  "orig_nbformat": 4,
  "vscode": {
   "interpreter": {
    "hash": "fc1e82968dfc16c270f2267ba27bdfb769cbc452151b271495bc5380f178b194"
   }
  }
 },
 "nbformat": 4,
 "nbformat_minor": 2
}
